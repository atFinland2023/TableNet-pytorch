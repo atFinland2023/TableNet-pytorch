{
 "cells": [
  {
   "cell_type": "markdown",
   "metadata": {},
   "source": [
    "<!-- all the tasks here have been done in EDA -V1 -->\n",
    "## Image Pre-Processing"
   ]
  },
  {
   "cell_type": "code",
   "execution_count": 1,
   "metadata": {},
   "outputs": [],
   "source": [
    "# #import libraries\n",
    "\n",
    "# import os\n",
    "# import math\n",
    "# import cv2\n",
    "# import struct\n",
    "# import glob\n",
    "# from tqdm import tqdm\n",
    "# from PIL import Image\n",
    "# import pandas as pd\n",
    "# import numpy as np\n",
    "# import matplotlib.pyplot as plt\n",
    "# import matplotlib.image as mpimg\n",
    "# import seaborn as sns\n",
    "# import xml.etree.ElementTree as ET"
   ]
  },
  {
   "cell_type": "markdown",
   "metadata": {},
   "source": [
    "## Data Preprocessing"
   ]
  },
  {
   "cell_type": "markdown",
   "metadata": {},
   "source": [
    "First converting Images to GrayScale --> Then increasing channels to 3"
   ]
  },
  {
   "cell_type": "code",
   "execution_count": 2,
   "metadata": {},
   "outputs": [],
   "source": [
    "# pos_data = glob.glob('marmot_dataset_v1.0/data/English/Positive/Raw' + '/*.bmp')\n",
    "# neg_data = glob.glob('marmot_dataset_v1.0/data/English/Negative/Raw' + '/*.bmp')"
   ]
  },
  {
   "cell_type": "code",
   "execution_count": 3,
   "metadata": {},
   "outputs": [],
   "source": [
    "# PROCESSED_DATA = 'marmot_processed'\n",
    "# IMAGE_PATH = os.path.join(PROCESSED_DATA, 'image_v2')"
   ]
  },
  {
   "cell_type": "code",
   "execution_count": 4,
   "metadata": {},
   "outputs": [],
   "source": [
    "# new_h, new_w = 1024, 1024"
   ]
  },
  {
   "cell_type": "code",
   "execution_count": null,
   "metadata": {},
   "outputs": [],
   "source": [
    "# in EDA-V1, the images have already been converted to RGB\n",
    "\n",
    "# for i, data in enumerate([neg_data, pos_data]):\n",
    "    \n",
    "#     for j, img_path in enumerate(data):\n",
    "        \n",
    "#         image_name = os.path.basename(img_path)\n",
    "#         image = Image.open(img_path).convert('LA')\n",
    "#         w, h = image.size\n",
    "        \n",
    "#         #convert to RGB image\n",
    "#         image = image.resize((new_h, new_w)).convert(\"RGB\")\n",
    "\n",
    "#         #save images and masks\n",
    "#         save_image_path = os.path.join(IMAGE_PATH, image_name.replace('bmp', 'jpg'))\n",
    "        \n",
    "#         image.save(save_image_path)"
   ]
  },
  {
   "cell_type": "code",
   "execution_count": 6,
   "metadata": {},
   "outputs": [],
   "source": [
    "# processed_data = pd.read_csv('processed_data.csv')"
   ]
  },
  {
   "cell_type": "code",
   "execution_count": 3,
   "metadata": {},
   "outputs": [],
   "source": [
    "# processed_data['img_path'] = processed_data['img_path'].apply(lambda x: x.replace('image', 'image_v2'))"
   ]
  },
  {
   "cell_type": "code",
   "execution_count": 4,
   "metadata": {},
   "outputs": [],
   "source": [
    "# processed_data.to_csv('processed_data_v2.csv', index = False)"
   ]
  },
  {
   "cell_type": "code",
   "execution_count": null,
   "metadata": {},
   "outputs": [],
   "source": [
    "# processed_data"
   ]
  },
  {
   "cell_type": "code",
   "execution_count": null,
   "metadata": {},
   "outputs": [],
   "source": []
  }
 ],
 "metadata": {
  "interpreter": {
   "hash": "cce9c5b3b81fcb98a8d09dfcaff65dd7cd23b6605cc49ab6f14f654f1c8962b0"
  },
  "kernelspec": {
   "display_name": "Python 3",
   "language": "python",
   "name": "python3"
  },
  "language_info": {
   "codemirror_mode": {
    "name": "ipython",
    "version": 3
   },
   "file_extension": ".py",
   "mimetype": "text/x-python",
   "name": "python",
   "nbconvert_exporter": "python",
   "pygments_lexer": "ipython3",
   "version": "3.11.0"
  }
 },
 "nbformat": 4,
 "nbformat_minor": 4
}
